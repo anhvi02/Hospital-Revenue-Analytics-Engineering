{
 "cells": [
  {
   "cell_type": "code",
   "execution_count": 40,
   "metadata": {},
   "outputs": [],
   "source": [
    "import os\n",
    "import pandas as pd\n",
    "from sqlalchemy.sql import text\n",
    "from sqlalchemy import create_engine\n"
   ]
  },
  {
   "cell_type": "markdown",
   "metadata": {},
   "source": [
    "### **Setup database**"
   ]
  },
  {
   "cell_type": "markdown",
   "metadata": {},
   "source": [
    "#### Connect to database: sys"
   ]
  },
  {
   "cell_type": "code",
   "execution_count": 41,
   "metadata": {},
   "outputs": [
    {
     "name": "stdout",
     "output_type": "stream",
     "text": [
      "Connection successful\n"
     ]
    }
   ],
   "source": [
    "def connect_database(database, username='root', password='rainscales2024', hostname='localhost', port='3306'):\n",
    "    connection_string = f\"mysql+mysqlconnector://{username}:{password}@{hostname}:{port}/{database}\"\n",
    "    engine = create_engine(connection_string)\n",
    "    with engine.connect() as connection:\n",
    "        print(\"Connection successful\")\n",
    "    return engine\n",
    "\n",
    "engine = connect_database(database='sys')"
   ]
  },
  {
   "cell_type": "markdown",
   "metadata": {},
   "source": [
    "#### Create new database: hospital_operation"
   ]
  },
  {
   "cell_type": "code",
   "execution_count": 42,
   "metadata": {},
   "outputs": [],
   "source": [
    "database_hospital_operation = 'HospitalOperation'"
   ]
  },
  {
   "cell_type": "code",
   "execution_count": 43,
   "metadata": {},
   "outputs": [
    {
     "name": "stdout",
     "output_type": "stream",
     "text": [
      "Database 'HospitalOperation' dropped successfully\n"
     ]
    }
   ],
   "source": [
    "def drop_database_if_exists(engine, database_name):\n",
    "    with engine.connect() as connection:\n",
    "        connection.execute(text(f\"DROP DATABASE IF EXISTS {database_name}\"))\n",
    "        print(f\"Database '{database_name}' dropped successfully\")\n",
    "\n",
    "drop_database_if_exists(engine=engine, database_name=database_hospital_operation)"
   ]
  },
  {
   "cell_type": "code",
   "execution_count": 44,
   "metadata": {},
   "outputs": [
    {
     "name": "stdout",
     "output_type": "stream",
     "text": [
      "Database 'HospitalOperation' created successfully\n"
     ]
    }
   ],
   "source": [
    "def create_database(engine, database_name):\n",
    "    with engine.connect() as connection:\n",
    "        connection.execute(text(f\"CREATE DATABASE IF NOT EXISTS {database_name}\"))\n",
    "        print(f\"Database '{database_name}' created successfully\")\n",
    "    \n",
    "create_database(engine=engine, database_name=database_hospital_operation)"
   ]
  },
  {
   "cell_type": "markdown",
   "metadata": {},
   "source": [
    "#### Connect to database: hospital_operation"
   ]
  },
  {
   "cell_type": "code",
   "execution_count": 45,
   "metadata": {},
   "outputs": [
    {
     "name": "stdout",
     "output_type": "stream",
     "text": [
      "Connection successful\n"
     ]
    }
   ],
   "source": [
    "engine = connect_database(database=database_hospital_operation)"
   ]
  },
  {
   "cell_type": "markdown",
   "metadata": {},
   "source": [
    "#### Load flat files into database in tables"
   ]
  },
  {
   "cell_type": "code",
   "execution_count": 46,
   "metadata": {},
   "outputs": [
    {
     "name": "stdout",
     "output_type": "stream",
     "text": [
      "Data from 'providers.csv' loaded into table 'providers'\n",
      "Data from 'departments.csv' loaded into table 'departments'\n",
      "Data from 'insurance.csv' loaded into table 'insurance'\n",
      "Data from 'procedures.csv' loaded into table 'procedures'\n",
      "Data from 'cities.csv' loaded into table 'cities'\n",
      "Data from 'patients.csv' loaded into table 'patients'\n",
      "Data from 'visits.csv' loaded into table 'visits'\n",
      "Data from 'diagnoses.csv' loaded into table 'diagnoses'\n"
     ]
    }
   ],
   "source": [
    "def load_flat_files_to_database(engine, folder_path, file_type):\n",
    "    \"\"\"\n",
    "    Loads all CSV files from a folder into tables in the database.\n",
    "    Each CSV file name will be used as the table name.\n",
    "    \"\"\"\n",
    "    for file_name in os.listdir(folder_path):\n",
    "        if file_name.endswith(f'.{file_type}'):\n",
    "            table_name = os.path.splitext(file_name)[0]\n",
    "            file_path = os.path.join(folder_path, file_name)\n",
    "            df = pd.read_csv(file_path)\n",
    "            df.to_sql(table_name, con=engine, if_exists='replace', index=False)\n",
    "            print(f\"Data from '{file_name}' loaded into table '{table_name}'\")\n",
    "\n",
    "# get path of the folder and the data_source\n",
    "def get_path_relative_to_current_file(folder_name):\n",
    "    current_dir = os.getcwd()\n",
    "    target_path = os.path.join(current_dir, folder_name)\n",
    "    return target_path\n",
    "\n",
    "path_data_source = get_path_relative_to_current_file(folder_name = 'data_source')\n",
    "\n",
    "# load data into database\n",
    "load_flat_files_to_database(engine=engine, folder_path=path_data_source, file_type='csv')"
   ]
  },
  {
   "cell_type": "markdown",
   "metadata": {},
   "source": [
    "#### Load SQL scripts and execute"
   ]
  },
  {
   "cell_type": "code",
   "execution_count": 47,
   "metadata": {},
   "outputs": [
    {
     "name": "stdout",
     "output_type": "stream",
     "text": [
      "SQL commands loaded to list\n"
     ]
    }
   ],
   "source": [
    "def load_sql_commands_from_file(file_path: str, mode='r'):\n",
    "    \"\"\"\n",
    "    Reads a SQL file, splits the commands by semicolon, and returns a list of cleaned commands.\n",
    "    \"\"\"\n",
    "    with open(file_path, mode) as file:\n",
    "        commands = [\n",
    "            command.replace('\\n', ' ').strip()  # Replace newlines and strip whitespace\n",
    "            for command in file.read().split(';')\n",
    "            if command.strip()  # Ensure non-empty commands are included\n",
    "        ]\n",
    "    print('SQL commands loaded to list')\n",
    "    return commands\n",
    "\n",
    "\n",
    "path_sql_script = get_path_relative_to_current_file('sql_script/create_contraints.sql')\n",
    "\n",
    "list_command_contrains = load_sql_commands_from_file(path_sql_script)"
   ]
  },
  {
   "cell_type": "code",
   "execution_count": 48,
   "metadata": {},
   "outputs": [
    {
     "name": "stdout",
     "output_type": "stream",
     "text": [
      "Commands executed successfully\n"
     ]
    }
   ],
   "source": [
    "def execute_sql_commands(engine, command_list):\n",
    "    \"\"\"\n",
    "    Executes a list of SQL commands using SQLAlchemy engine.\n",
    "    \"\"\"\n",
    "    with engine.connect() as connection:\n",
    "        for command in command_list:\n",
    "            if command:  # Skip empty commands\n",
    "                connection.execute(text(command))\n",
    "        print(\"Commands executed successfully\")\n",
    "\n",
    "execute_sql_commands(engine=engine, command_list = list_command_contrains)"
   ]
  }
 ],
 "metadata": {
  "kernelspec": {
   "display_name": "database",
   "language": "python",
   "name": "python3"
  },
  "language_info": {
   "codemirror_mode": {
    "name": "ipython",
    "version": 3
   },
   "file_extension": ".py",
   "mimetype": "text/x-python",
   "name": "python",
   "nbconvert_exporter": "python",
   "pygments_lexer": "ipython3",
   "version": "3.9.20"
  }
 },
 "nbformat": 4,
 "nbformat_minor": 2
}
